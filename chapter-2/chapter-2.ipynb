{
 "cells": [
  {
   "attachments": {},
   "cell_type": "markdown",
   "metadata": {},
   "source": [
    "# Interact with API\n",
    "\n",
    "For easier use, we have deployed endpoints which can be used to test the models. The s3 link of model and files you want to test are needed. \n",
    "\n"
   ]
  },
  {
   "cell_type": "code",
   "execution_count": 26,
   "metadata": {
    "tags": []
   },
   "outputs": [
    {
     "name": "stdout",
     "output_type": "stream",
     "text": [
      "\u001b[33mWARNING: Running pip as the 'root' user can result in broken permissions and conflicting behaviour with the system package manager. It is recommended to use a virtual environment instead: https://pip.pypa.io/warnings/venv\u001b[0m\u001b[33m\n",
      "\u001b[0m\n",
      "\u001b[1m[\u001b[0m\u001b[34;49mnotice\u001b[0m\u001b[1;39;49m]\u001b[0m\u001b[39;49m A new release of pip is available: \u001b[0m\u001b[31;49m23.1.2\u001b[0m\u001b[39;49m -> \u001b[0m\u001b[32;49m23.2\u001b[0m\n",
      "\u001b[1m[\u001b[0m\u001b[34;49mnotice\u001b[0m\u001b[1;39;49m]\u001b[0m\u001b[39;49m To update, run: \u001b[0m\u001b[32;49mpip install --upgrade pip\u001b[0m\n"
     ]
    }
   ],
   "source": [
    "!pip install rasterio folium matplotlib numpy requests boto3 geopandas -q"
   ]
  },
  {
   "attachments": {},
   "cell_type": "markdown",
   "metadata": {},
   "source": [
    "## Restart Kernel\n",
    "Kernel > Restart Kernel"
   ]
  },
  {
   "attachments": {},
   "cell_type": "markdown",
   "metadata": {},
   "source": [
    "## Setup\n",
    "1. Navigate to https://nasa-impact.awsapps.com/start\n",
    "2. Click on `Amazon Sagemaker Studio`\n",
    "3. Click on `Open Launcher`\n",
    "4. Click on `System terminal`\n",
    "5. Once the terminal starts, run `git clone https://github.com/NASA-IMPACT/2023-igarss-tutorial.git`\n",
    "6. Click on the folder icon on the left control pane\n",
    "7. Double Click on `2023-igarss-tutorial`\n",
    "8. Double Click on `chapter-2`\n",
    "9. Double Click on `chapter-2.ipynb`\n",
    "10. Leave default values for the environment and click `Select`\n"
   ]
  },
  {
   "attachments": {},
   "cell_type": "markdown",
   "metadata": {
    "tags": []
   },
   "source": [
    "## Accessing s3 link of uploaded model\n",
    "1. Navigate to https://nasa-impact.awsapps.com/start\n",
    "2. Login\n",
    "3. Click on `AWS Account`\n",
    "4. Click on `Summer School`\n",
    "5. Click on `Management Console`\n",
    "6. In the search bar, search for `s3`\n",
    "7. Click on `s3`\n",
    "8. Click on `2023-igarss-tutorial-data`\n",
    "9. Click on your `username`\n",
    "10. Click on `<username>_<experiment>.pth`. Replace `<username>` with your username, and `<experiment>` with either `burn_scars` or `flood`.\n",
    "11. Copy S3 URI (Eg: s3://2023-igarss-tutorial-store/models/gurung1/gurung1_burn_scars.pth)\n"
   ]
  },
  {
   "cell_type": "code",
   "execution_count": 8,
   "metadata": {
    "tags": []
   },
   "outputs": [],
   "source": [
    "# update with copied s3 link\n",
    "url = \"http://hls-foundation.nasa-impact.net/models/burn_scars/infer\""
   ]
  },
  {
   "attachments": {},
   "cell_type": "markdown",
   "metadata": {},
   "source": [
    "## Accessing s3 link of test files\n",
    "1. Navigate to https://nasa-impact.awsapps.com/start\n",
    "2. Login\n",
    "3. Click on `AWS Account`\n",
    "4. Click on `Summer School`\n",
    "5. Click on `Management Console`\n",
    "6. In the search bar, search for `s3`\n",
    "7. Click on `s3`\n",
    "8. Click on `2023-igarss-tutorial-data`\n",
    "9. Click on `data`\n",
    "10. Click on `burn_scars`\n",
    "11. Click on any file that ends on `_merged.tif`\n",
    "12. Copy S3 URI (Eg: s3://2023-igarss-tutorial-store/data/burn_scars/subsetted_512x512_HLS.S30.T10SFF.2020215.v1.4_merged.tif)\n"
   ]
  },
  {
   "cell_type": "code",
   "execution_count": 3,
   "metadata": {
    "tags": []
   },
   "outputs": [],
   "source": [
    "#model_path = \"s3://2023-igarss-tutorial-store/models/gurung1/gurung1_burn_scars.pth\"\n",
    "model_path = <model-path-here>\n",
    "\n",
    "# update with copied s3 link\n",
    "#file_path = \"s3://2023-igarss-tutorial-store/data/burn_scars/subsetted_512x512_HLS.S30.T10SFF.2020215.v1.4_merged.tif\"\n",
    "file_path = <file-path-here>"
   ]
  },
  {
   "cell_type": "code",
   "execution_count": 4,
   "metadata": {
    "tags": []
   },
   "outputs": [
    {
     "name": "stdout",
     "output_type": "stream",
     "text": [
      "{\"type\":\"FeatureCollection\",\"features\":[{\"type\":\"Feature\",\"geometry\":{\"type\":\"Polygon\",\"coordinates\":[[[-121.0018591434836,36.68622020870604],[-121.00507815750133,36.68411466899039],[-121.00814599987459,36.68138545342887],[-121.012000114364,36.67963433655587],[-121.01601417532912,36.678479469851865],[-121.02050104975825,36.67823079573894],[-121.02221855218589,36.67582969597509],[-121.01931308795851,36.67322747488139],[-121.01610308728245,36.67086150560005],[-121.01323356483378,36.66833289793053],[-121.00937624091891,36.666468137476436],[-121.00455269695779,36.66680314080991],[-121.00053261338915,36.6656387843632],[-120.9961126460789,36.66421851636058],[-120.99174631600481,36.665258243656986],[-120.98775235944937,36.66644578713602],[-120.98357852853746,36.66724826116274],[-120.98258834138956,36.67065792831093],[-120.98356473803562,36.67476672876577],[-120.9825181817679,36.67811674479819],[-120.98258296185013,36.68160275078816],[-120.98593171609323,36.68362740922138],[-120.99073657921984,36.68334022584608],[-120.99446607183563,36.68503504718228],[-120.99850679283603,36.6861591463036],[-121.0018591434836,36.68622020870604]]]},\"properties\":{\"score\":0.9661865049279758}},{\"type\":\"Feature\",\"geometry\":{\"type\":\"Polygon\",\"coordinates\":[[[-121.06836344412305,36.60812646676157],[-121.06885608353903,36.60798894234133],[-121.0692446084205,36.60785008877486],[-121.06953550211564,36.607712211842006],[-121.06973524797401,36.607577617035005],[-121.06985032929646,36.607448609572714],[-121.06988722935475,36.60732749446645],[-121.06985243134876,36.607216576545504],[-121.0697524207441,36.60711815979637],[-121.06959486160565,36.60703419749259],[-121.06939050122446,36.60696572567922],[-121.06915058465839,36.60691363229022],[-121.06888635692843,36.60687880530878],[-121.0686090629489,36.60686213279462],[-121.06832994759509,36.606864502894055],[-121.06806025571734,36.606886803865606],[-121.06781123217019,36.60692992406822],[-121.06759412184385,36.60699475195696],[-121.06742016968893,36.60708217602294],[-121.06730062077571,36.60719308480434],[-121.06724672033526,36.607328366832434],[-121.06726971377078,36.607488910548575],[-121.06738084673746,36.60767560427467],[-121.06759136518248,36.60788933609146],[-121.0679125153859,36.60813099380521],[-121.06836344412305,36.60812646676157]]]},\"properties\":{\"score\":1.0}}]}\n"
     ]
    }
   ],
   "source": [
    "import requests\n",
    "import json\n",
    "\n",
    "url = \"http://hls-foundation.nasa-impact.net/models/burn_scars/infer\"\n",
    "\n",
    "payload = json.dumps({\n",
    "  \"model_path\": model_path,\n",
    "  \"file_path\": file_path\n",
    "})\n",
    "headers = {\n",
    "  'Content-Type': 'application/json'\n",
    "}\n",
    "\n",
    "response = requests.request(\"POST\", url, headers=headers, data=payload)\n",
    "\n",
    "print(response.text)"
   ]
  },
  {
   "attachments": {},
   "cell_type": "markdown",
   "metadata": {},
   "source": [
    "## Visualizing the predicitons"
   ]
  },
  {
   "cell_type": "code",
   "execution_count": 14,
   "metadata": {
    "tags": []
   },
   "outputs": [],
   "source": [
    "!mkdir -p data/flood"
   ]
  },
  {
   "cell_type": "code",
   "execution_count": 15,
   "metadata": {
    "tags": []
   },
   "outputs": [],
   "source": [
    "!mkdir -p data/burn_scars"
   ]
  },
  {
   "cell_type": "code",
   "execution_count": 15,
   "metadata": {
    "tags": []
   },
   "outputs": [
    {
     "name": "stdout",
     "output_type": "stream",
     "text": [
      "acharya4_flood.tar.gz\n",
      "data/\n",
      "data/burn_scars/\n",
      "data/burn_scars/subsetted_512x512_HLS.S30.T10SEH.2018190.v1.4.mask.tif\n",
      "data/burn_scars/subsetted_512x512_HLS.S30.T10SEH.2018190.v1.4_merged.tif\n",
      "data/burn_scars/subsetted_512x512_HLS.S30.T10SFE.2021166.v1.4.mask.tif\n",
      "data/burn_scars/subsetted_512x512_HLS.S30.T10SFE.2021166.v1.4_merged.tif\n",
      "data/burn_scars/subsetted_512x512_HLS.S30.T10SFF.2020215.v1.4.mask.tif\n",
      "data/burn_scars/subsetted_512x512_HLS.S30.T10SFF.2020215.v1.4_merged.tif\n",
      "data/burn_scars/subsetted_512x512_HLS.S30.T10SFG.2020185.v1.4.mask.tif\n",
      "data/burn_scars/subsetted_512x512_HLS.S30.T10SFG.2020185.v1.4_merged.tif\n",
      "data/burn_scars/subsetted_512x512_HLS.S30.T10SFG.2020215.v1.4.mask.tif\n",
      "data/burn_scars/subsetted_512x512_HLS.S30.T10SFG.2020215.v1.4_merged.tif\n",
      "data/burn_scars/subsetted_512x512_HLS.S30.T10SGD.2018257.v1.4.mask.tif\n",
      "data/burn_scars/subsetted_512x512_HLS.S30.T10SGD.2018257.v1.4_merged.tif\n",
      "data/burn_scars/subsetted_512x512_HLS.S30.T10SGF.2020217.v1.4.mask.tif\n",
      "data/burn_scars/subsetted_512x512_HLS.S30.T10SGF.2020217.v1.4_merged.tif\n",
      "data/burn_scars/subsetted_512x512_HLS.S30.T10SGG.2018187.v1.4.mask.tif\n",
      "data/burn_scars/subsetted_512x512_HLS.S30.T10SGG.2018187.v1.4_merged.tif\n",
      "data/burn_scars/subsetted_512x512_HLS.S30.T10SGG.2020247.v1.4.mask.tif\n",
      "data/burn_scars/subsetted_512x512_HLS.S30.T10SGG.2020247.v1.4_merged.tif\n",
      "data/burn_scars/subsetted_512x512_HLS.S30.T10TFL.2018215.v1.4.mask.tif\n",
      "data/burn_scars/subsetted_512x512_HLS.S30.T10TFL.2018215.v1.4_merged.tif\n",
      "data/flood/\n",
      "data/flood/USA_1010394.mask.tif\n",
      "data/flood/USA_1010394_merged.tif\n",
      "data/flood/USA_1039203.mask.tif\n",
      "data/flood/USA_1039203_merged.tif\n",
      "data/flood/USA_1049586.mask.tif\n",
      "data/flood/USA_1049586_merged.tif\n",
      "data/flood/USA_1068362.mask.tif\n",
      "data/flood/USA_1068362_merged.tif\n",
      "data/flood/USA_1082482.mask.tif\n",
      "data/flood/USA_1082482_merged.tif\n",
      "data/flood/USA_908474.mask.tif\n",
      "data/flood/USA_908474_merged.tif\n",
      "data/flood/USA_933610.mask.tif\n",
      "data/flood/USA_933610_merged.tif\n",
      "data/flood/USA_955053.mask.tif\n",
      "data/flood/USA_955053_merged.tif\n",
      "data/flood/USA_986268.mask.tif\n",
      "data/flood/USA_986268_merged.tif\n",
      "data/flood/USA_994009.mask.tif\n",
      "models/\n",
      "models/gurung1/\n",
      "models/gurung1/gurung1_burn_scars.pth\n",
      "models/gurung1_burn_scars.tar.gz\n",
      "models/mr_burn_scars.tar.gz\n",
      "ramasubramanian1/ramasubramanian1_flood.pth\n"
     ]
    }
   ],
   "source": [
    "import os\n",
    "import boto3\n",
    "from rasterio.warp import calculate_default_transform, reproject, Resampling\n",
    "conn = boto3.resource('s3')\n",
    "bucket_name = '2023-igarss-tutorial-store'\n",
    "my_bucket = conn.Bucket(bucket_name)\n",
    "s3_conn = boto3.client('s3')\n",
    "DEFAULT_CRS = 'EPSG:4326'\n",
    "\n",
    "files = list()\n",
    "masks = list()\n",
    "\n",
    "def calculate_updated_profile(tiff_file):\n",
    "    \"\"\"\n",
    "    Create updated profile for the provided tiff_file\n",
    "\n",
    "    Args:\n",
    "        tiff_file (rasterio.io.MemoryFile): rasterio memoryfile.\n",
    "\n",
    "    Returns:\n",
    "        dict: updated profile for new tiff file\n",
    "    \"\"\"\n",
    "    profile = tiff_file.profile\n",
    "    transform, width, height = calculate_default_transform(\n",
    "        tiff_file.crs,\n",
    "        DEFAULT_CRS,\n",
    "        tiff_file.width,\n",
    "        tiff_file.height,\n",
    "        *tiff_file.bounds\n",
    "    )\n",
    "    profile.update(\n",
    "        crs=DEFAULT_CRS,\n",
    "        transform=transform,\n",
    "        width=width,\n",
    "        height=height,\n",
    "        nodata=0,\n",
    "        compress='lzw',\n",
    "    )\n",
    "    return profile\n",
    "\n",
    "for my_bucket_object in my_bucket.objects.all():\n",
    "    print(my_bucket_object.key)\n",
    "    filename = str(my_bucket_object.key)\n",
    "    if 'merged' in filename:\n",
    "        files.append(filename)\n",
    "    elif 'mask' in filename:\n",
    "        masks.append(filename)\n",
    "    if not(os.path.exists(filename)):\n",
    "        if '.tif' in filename:\n",
    "            s3_conn.download_file(bucket_name, filename, filename)\n",
    "            tiff_file = rasterio.open(filename)\n",
    "            updated_profile = calculate_updated_profile(tiff_file)\n",
    "            with rasterio.open(filename, 'w', **updated_profile) as dst:\n",
    "                for band in range(1, updated_profile['count']):\n",
    "                    reproject(\n",
    "                        source=rasterio.band(tiff_file, band),\n",
    "                        destination=rasterio.band(dst, band),\n",
    "                        src_transform=tiff_file.transform,\n",
    "                        src_crs=tiff_file.crs,\n",
    "                        dst_transform=updated_profile['transform'],\n",
    "                        dst_crs=DEFAULT_CRS,\n",
    "                        resampling=Resampling.nearest)\n",
    "files.sort()\n",
    "masks.sort()"
   ]
  },
  {
   "cell_type": "code",
   "execution_count": null,
   "metadata": {
    "tags": []
   },
   "outputs": [],
   "source": [
    "import rasterio\n",
    "import shapely\n",
    "import json\n",
    "import rasterio.warp\n",
    "from rasterio.crs import CRS\n",
    "from shapely.geometry import box\n",
    "import geopandas as gpd\n",
    "\n",
    "\n",
    "url = \"http://hls-foundation.nasa-impact.net/models/burn_scars/infer\"\n",
    "\n",
    "headers = {\n",
    "  'Content-Type': 'application/json'\n",
    "}\n",
    "\n",
    "model_path = \"s3://2023-igarss-tutorial-store/models/gurung1/gurung1_burn_scars.pth\"\n",
    "\n",
    "for filenum, _ in enumerate(files):\n",
    "    file_path = f\"s3://2023-igarss-tutorial-store/{files[filenum]}\"\n",
    "    mask_path = f\"s3://2023-igarss-tutorial-store/{masks[filenum]}\"\n",
    "    \n",
    "    payload = json.dumps({\n",
    "        \"model_path\": model_path,\n",
    "        \"file_path\": file_path\n",
    "    })\n",
    "    response = requests.request(\"POST\", url, headers=headers, data=payload)\n",
    "    print(response.text)\n",
    "    break\n",
    "    gdf = gpd.GeoDataFrame(json.loads(response.text))\n",
    "    # Project the feature to the desired CRS\n",
    "\n",
    "    # Load the original image layer\n",
    "    with rasterio.open(files[filenum]) as src:\n",
    "        redArray = src.read(1)\n",
    "        greenArray = src.read(2)\n",
    "        blueArray = src.read(3)\n",
    "        print(redArray.max())\n",
    "        print(greenArray.max())\n",
    "        print(blueArray.max())\n",
    "        bounds = src.bounds\n",
    "        nd = src.nodata\n",
    "        midLat = (bounds[3] + bounds[1]) / 2\n",
    "        midLon = (bounds[2] + bounds[0]) / 2\n",
    "        im_rgb = np.moveaxis(np.array([redArray,greenArray,blueArray]), 0, -1)\n",
    "        im_rgb = im_rgb/np.max(im_rgb)\n",
    "        img_rgb = np.clip(im_rgb * 255, 0, 255)\n",
    "        img_rgb = img_rgb.astype('uint8')\n",
    "    # Create the map\n",
    "    if filenum == 0:\n",
    "        m = folium.Map(location=[midLat, midLon], tiles='openstreetmap', max_zoom=22)\n",
    "    \n",
    "    \n",
    "    orig = folium.raster_layers.ImageOverlay(im_rgb, [[bounds[1], bounds[0]], [bounds[3], bounds[2]]], name=f\"Original image{filenum}\", opacity=1.0)\n",
    "    orig.add_to(m)\n",
    "    # pred.add_to(m)\n",
    "    break\n",
    "    folium.GeoJson(\n",
    "        gdf,\n",
    "    ).add_to(m)\n",
    "folium.LayerControl().add_to(m)\n",
    "m.fit_bounds(bounds)\n",
    "m"
   ]
  }
 ],
 "metadata": {
  "availableInstances": [
   {
    "_defaultOrder": 0,
    "_isFastLaunch": true,
    "category": "General purpose",
    "gpuNum": 0,
    "hideHardwareSpecs": false,
    "memoryGiB": 4,
    "name": "ml.t3.medium",
    "vcpuNum": 2
   },
   {
    "_defaultOrder": 1,
    "_isFastLaunch": false,
    "category": "General purpose",
    "gpuNum": 0,
    "hideHardwareSpecs": false,
    "memoryGiB": 8,
    "name": "ml.t3.large",
    "vcpuNum": 2
   },
   {
    "_defaultOrder": 2,
    "_isFastLaunch": false,
    "category": "General purpose",
    "gpuNum": 0,
    "hideHardwareSpecs": false,
    "memoryGiB": 16,
    "name": "ml.t3.xlarge",
    "vcpuNum": 4
   },
   {
    "_defaultOrder": 3,
    "_isFastLaunch": false,
    "category": "General purpose",
    "gpuNum": 0,
    "hideHardwareSpecs": false,
    "memoryGiB": 32,
    "name": "ml.t3.2xlarge",
    "vcpuNum": 8
   },
   {
    "_defaultOrder": 4,
    "_isFastLaunch": true,
    "category": "General purpose",
    "gpuNum": 0,
    "hideHardwareSpecs": false,
    "memoryGiB": 8,
    "name": "ml.m5.large",
    "vcpuNum": 2
   },
   {
    "_defaultOrder": 5,
    "_isFastLaunch": false,
    "category": "General purpose",
    "gpuNum": 0,
    "hideHardwareSpecs": false,
    "memoryGiB": 16,
    "name": "ml.m5.xlarge",
    "vcpuNum": 4
   },
   {
    "_defaultOrder": 6,
    "_isFastLaunch": false,
    "category": "General purpose",
    "gpuNum": 0,
    "hideHardwareSpecs": false,
    "memoryGiB": 32,
    "name": "ml.m5.2xlarge",
    "vcpuNum": 8
   },
   {
    "_defaultOrder": 7,
    "_isFastLaunch": false,
    "category": "General purpose",
    "gpuNum": 0,
    "hideHardwareSpecs": false,
    "memoryGiB": 64,
    "name": "ml.m5.4xlarge",
    "vcpuNum": 16
   },
   {
    "_defaultOrder": 8,
    "_isFastLaunch": false,
    "category": "General purpose",
    "gpuNum": 0,
    "hideHardwareSpecs": false,
    "memoryGiB": 128,
    "name": "ml.m5.8xlarge",
    "vcpuNum": 32
   },
   {
    "_defaultOrder": 9,
    "_isFastLaunch": false,
    "category": "General purpose",
    "gpuNum": 0,
    "hideHardwareSpecs": false,
    "memoryGiB": 192,
    "name": "ml.m5.12xlarge",
    "vcpuNum": 48
   },
   {
    "_defaultOrder": 10,
    "_isFastLaunch": false,
    "category": "General purpose",
    "gpuNum": 0,
    "hideHardwareSpecs": false,
    "memoryGiB": 256,
    "name": "ml.m5.16xlarge",
    "vcpuNum": 64
   },
   {
    "_defaultOrder": 11,
    "_isFastLaunch": false,
    "category": "General purpose",
    "gpuNum": 0,
    "hideHardwareSpecs": false,
    "memoryGiB": 384,
    "name": "ml.m5.24xlarge",
    "vcpuNum": 96
   },
   {
    "_defaultOrder": 12,
    "_isFastLaunch": false,
    "category": "General purpose",
    "gpuNum": 0,
    "hideHardwareSpecs": false,
    "memoryGiB": 8,
    "name": "ml.m5d.large",
    "vcpuNum": 2
   },
   {
    "_defaultOrder": 13,
    "_isFastLaunch": false,
    "category": "General purpose",
    "gpuNum": 0,
    "hideHardwareSpecs": false,
    "memoryGiB": 16,
    "name": "ml.m5d.xlarge",
    "vcpuNum": 4
   },
   {
    "_defaultOrder": 14,
    "_isFastLaunch": false,
    "category": "General purpose",
    "gpuNum": 0,
    "hideHardwareSpecs": false,
    "memoryGiB": 32,
    "name": "ml.m5d.2xlarge",
    "vcpuNum": 8
   },
   {
    "_defaultOrder": 15,
    "_isFastLaunch": false,
    "category": "General purpose",
    "gpuNum": 0,
    "hideHardwareSpecs": false,
    "memoryGiB": 64,
    "name": "ml.m5d.4xlarge",
    "vcpuNum": 16
   },
   {
    "_defaultOrder": 16,
    "_isFastLaunch": false,
    "category": "General purpose",
    "gpuNum": 0,
    "hideHardwareSpecs": false,
    "memoryGiB": 128,
    "name": "ml.m5d.8xlarge",
    "vcpuNum": 32
   },
   {
    "_defaultOrder": 17,
    "_isFastLaunch": false,
    "category": "General purpose",
    "gpuNum": 0,
    "hideHardwareSpecs": false,
    "memoryGiB": 192,
    "name": "ml.m5d.12xlarge",
    "vcpuNum": 48
   },
   {
    "_defaultOrder": 18,
    "_isFastLaunch": false,
    "category": "General purpose",
    "gpuNum": 0,
    "hideHardwareSpecs": false,
    "memoryGiB": 256,
    "name": "ml.m5d.16xlarge",
    "vcpuNum": 64
   },
   {
    "_defaultOrder": 19,
    "_isFastLaunch": false,
    "category": "General purpose",
    "gpuNum": 0,
    "hideHardwareSpecs": false,
    "memoryGiB": 384,
    "name": "ml.m5d.24xlarge",
    "vcpuNum": 96
   },
   {
    "_defaultOrder": 20,
    "_isFastLaunch": false,
    "category": "General purpose",
    "gpuNum": 0,
    "hideHardwareSpecs": true,
    "memoryGiB": 0,
    "name": "ml.geospatial.interactive",
    "supportedImageNames": [
     "sagemaker-geospatial-v1-0"
    ],
    "vcpuNum": 0
   },
   {
    "_defaultOrder": 21,
    "_isFastLaunch": true,
    "category": "Compute optimized",
    "gpuNum": 0,
    "hideHardwareSpecs": false,
    "memoryGiB": 4,
    "name": "ml.c5.large",
    "vcpuNum": 2
   },
   {
    "_defaultOrder": 22,
    "_isFastLaunch": false,
    "category": "Compute optimized",
    "gpuNum": 0,
    "hideHardwareSpecs": false,
    "memoryGiB": 8,
    "name": "ml.c5.xlarge",
    "vcpuNum": 4
   },
   {
    "_defaultOrder": 23,
    "_isFastLaunch": false,
    "category": "Compute optimized",
    "gpuNum": 0,
    "hideHardwareSpecs": false,
    "memoryGiB": 16,
    "name": "ml.c5.2xlarge",
    "vcpuNum": 8
   },
   {
    "_defaultOrder": 24,
    "_isFastLaunch": false,
    "category": "Compute optimized",
    "gpuNum": 0,
    "hideHardwareSpecs": false,
    "memoryGiB": 32,
    "name": "ml.c5.4xlarge",
    "vcpuNum": 16
   },
   {
    "_defaultOrder": 25,
    "_isFastLaunch": false,
    "category": "Compute optimized",
    "gpuNum": 0,
    "hideHardwareSpecs": false,
    "memoryGiB": 72,
    "name": "ml.c5.9xlarge",
    "vcpuNum": 36
   },
   {
    "_defaultOrder": 26,
    "_isFastLaunch": false,
    "category": "Compute optimized",
    "gpuNum": 0,
    "hideHardwareSpecs": false,
    "memoryGiB": 96,
    "name": "ml.c5.12xlarge",
    "vcpuNum": 48
   },
   {
    "_defaultOrder": 27,
    "_isFastLaunch": false,
    "category": "Compute optimized",
    "gpuNum": 0,
    "hideHardwareSpecs": false,
    "memoryGiB": 144,
    "name": "ml.c5.18xlarge",
    "vcpuNum": 72
   },
   {
    "_defaultOrder": 28,
    "_isFastLaunch": false,
    "category": "Compute optimized",
    "gpuNum": 0,
    "hideHardwareSpecs": false,
    "memoryGiB": 192,
    "name": "ml.c5.24xlarge",
    "vcpuNum": 96
   },
   {
    "_defaultOrder": 29,
    "_isFastLaunch": true,
    "category": "Accelerated computing",
    "gpuNum": 1,
    "hideHardwareSpecs": false,
    "memoryGiB": 16,
    "name": "ml.g4dn.xlarge",
    "vcpuNum": 4
   },
   {
    "_defaultOrder": 30,
    "_isFastLaunch": false,
    "category": "Accelerated computing",
    "gpuNum": 1,
    "hideHardwareSpecs": false,
    "memoryGiB": 32,
    "name": "ml.g4dn.2xlarge",
    "vcpuNum": 8
   },
   {
    "_defaultOrder": 31,
    "_isFastLaunch": false,
    "category": "Accelerated computing",
    "gpuNum": 1,
    "hideHardwareSpecs": false,
    "memoryGiB": 64,
    "name": "ml.g4dn.4xlarge",
    "vcpuNum": 16
   },
   {
    "_defaultOrder": 32,
    "_isFastLaunch": false,
    "category": "Accelerated computing",
    "gpuNum": 1,
    "hideHardwareSpecs": false,
    "memoryGiB": 128,
    "name": "ml.g4dn.8xlarge",
    "vcpuNum": 32
   },
   {
    "_defaultOrder": 33,
    "_isFastLaunch": false,
    "category": "Accelerated computing",
    "gpuNum": 4,
    "hideHardwareSpecs": false,
    "memoryGiB": 192,
    "name": "ml.g4dn.12xlarge",
    "vcpuNum": 48
   },
   {
    "_defaultOrder": 34,
    "_isFastLaunch": false,
    "category": "Accelerated computing",
    "gpuNum": 1,
    "hideHardwareSpecs": false,
    "memoryGiB": 256,
    "name": "ml.g4dn.16xlarge",
    "vcpuNum": 64
   },
   {
    "_defaultOrder": 35,
    "_isFastLaunch": false,
    "category": "Accelerated computing",
    "gpuNum": 1,
    "hideHardwareSpecs": false,
    "memoryGiB": 61,
    "name": "ml.p3.2xlarge",
    "vcpuNum": 8
   },
   {
    "_defaultOrder": 36,
    "_isFastLaunch": false,
    "category": "Accelerated computing",
    "gpuNum": 4,
    "hideHardwareSpecs": false,
    "memoryGiB": 244,
    "name": "ml.p3.8xlarge",
    "vcpuNum": 32
   },
   {
    "_defaultOrder": 37,
    "_isFastLaunch": false,
    "category": "Accelerated computing",
    "gpuNum": 8,
    "hideHardwareSpecs": false,
    "memoryGiB": 488,
    "name": "ml.p3.16xlarge",
    "vcpuNum": 64
   },
   {
    "_defaultOrder": 38,
    "_isFastLaunch": false,
    "category": "Accelerated computing",
    "gpuNum": 8,
    "hideHardwareSpecs": false,
    "memoryGiB": 768,
    "name": "ml.p3dn.24xlarge",
    "vcpuNum": 96
   },
   {
    "_defaultOrder": 39,
    "_isFastLaunch": false,
    "category": "Memory Optimized",
    "gpuNum": 0,
    "hideHardwareSpecs": false,
    "memoryGiB": 16,
    "name": "ml.r5.large",
    "vcpuNum": 2
   },
   {
    "_defaultOrder": 40,
    "_isFastLaunch": false,
    "category": "Memory Optimized",
    "gpuNum": 0,
    "hideHardwareSpecs": false,
    "memoryGiB": 32,
    "name": "ml.r5.xlarge",
    "vcpuNum": 4
   },
   {
    "_defaultOrder": 41,
    "_isFastLaunch": false,
    "category": "Memory Optimized",
    "gpuNum": 0,
    "hideHardwareSpecs": false,
    "memoryGiB": 64,
    "name": "ml.r5.2xlarge",
    "vcpuNum": 8
   },
   {
    "_defaultOrder": 42,
    "_isFastLaunch": false,
    "category": "Memory Optimized",
    "gpuNum": 0,
    "hideHardwareSpecs": false,
    "memoryGiB": 128,
    "name": "ml.r5.4xlarge",
    "vcpuNum": 16
   },
   {
    "_defaultOrder": 43,
    "_isFastLaunch": false,
    "category": "Memory Optimized",
    "gpuNum": 0,
    "hideHardwareSpecs": false,
    "memoryGiB": 256,
    "name": "ml.r5.8xlarge",
    "vcpuNum": 32
   },
   {
    "_defaultOrder": 44,
    "_isFastLaunch": false,
    "category": "Memory Optimized",
    "gpuNum": 0,
    "hideHardwareSpecs": false,
    "memoryGiB": 384,
    "name": "ml.r5.12xlarge",
    "vcpuNum": 48
   },
   {
    "_defaultOrder": 45,
    "_isFastLaunch": false,
    "category": "Memory Optimized",
    "gpuNum": 0,
    "hideHardwareSpecs": false,
    "memoryGiB": 512,
    "name": "ml.r5.16xlarge",
    "vcpuNum": 64
   },
   {
    "_defaultOrder": 46,
    "_isFastLaunch": false,
    "category": "Memory Optimized",
    "gpuNum": 0,
    "hideHardwareSpecs": false,
    "memoryGiB": 768,
    "name": "ml.r5.24xlarge",
    "vcpuNum": 96
   },
   {
    "_defaultOrder": 47,
    "_isFastLaunch": false,
    "category": "Accelerated computing",
    "gpuNum": 1,
    "hideHardwareSpecs": false,
    "memoryGiB": 16,
    "name": "ml.g5.xlarge",
    "vcpuNum": 4
   },
   {
    "_defaultOrder": 48,
    "_isFastLaunch": false,
    "category": "Accelerated computing",
    "gpuNum": 1,
    "hideHardwareSpecs": false,
    "memoryGiB": 32,
    "name": "ml.g5.2xlarge",
    "vcpuNum": 8
   },
   {
    "_defaultOrder": 49,
    "_isFastLaunch": false,
    "category": "Accelerated computing",
    "gpuNum": 1,
    "hideHardwareSpecs": false,
    "memoryGiB": 64,
    "name": "ml.g5.4xlarge",
    "vcpuNum": 16
   },
   {
    "_defaultOrder": 50,
    "_isFastLaunch": false,
    "category": "Accelerated computing",
    "gpuNum": 1,
    "hideHardwareSpecs": false,
    "memoryGiB": 128,
    "name": "ml.g5.8xlarge",
    "vcpuNum": 32
   },
   {
    "_defaultOrder": 51,
    "_isFastLaunch": false,
    "category": "Accelerated computing",
    "gpuNum": 1,
    "hideHardwareSpecs": false,
    "memoryGiB": 256,
    "name": "ml.g5.16xlarge",
    "vcpuNum": 64
   },
   {
    "_defaultOrder": 52,
    "_isFastLaunch": false,
    "category": "Accelerated computing",
    "gpuNum": 4,
    "hideHardwareSpecs": false,
    "memoryGiB": 192,
    "name": "ml.g5.12xlarge",
    "vcpuNum": 48
   },
   {
    "_defaultOrder": 53,
    "_isFastLaunch": false,
    "category": "Accelerated computing",
    "gpuNum": 4,
    "hideHardwareSpecs": false,
    "memoryGiB": 384,
    "name": "ml.g5.24xlarge",
    "vcpuNum": 96
   },
   {
    "_defaultOrder": 54,
    "_isFastLaunch": false,
    "category": "Accelerated computing",
    "gpuNum": 8,
    "hideHardwareSpecs": false,
    "memoryGiB": 768,
    "name": "ml.g5.48xlarge",
    "vcpuNum": 192
   },
   {
    "_defaultOrder": 55,
    "_isFastLaunch": false,
    "category": "Accelerated computing",
    "gpuNum": 8,
    "hideHardwareSpecs": false,
    "memoryGiB": 1152,
    "name": "ml.p4d.24xlarge",
    "vcpuNum": 96
   },
   {
    "_defaultOrder": 56,
    "_isFastLaunch": false,
    "category": "Accelerated computing",
    "gpuNum": 8,
    "hideHardwareSpecs": false,
    "memoryGiB": 1152,
    "name": "ml.p4de.24xlarge",
    "vcpuNum": 96
   }
  ],
  "instance_type": "ml.t3.medium",
  "kernelspec": {
   "display_name": "satnerf",
   "language": "python",
   "name": "python3"
  },
  "language_info": {
   "codemirror_mode": {
    "name": "ipython",
    "version": 3
   },
   "file_extension": ".py",
   "mimetype": "text/x-python",
   "name": "python",
   "nbconvert_exporter": "python",
   "pygments_lexer": "ipython3",
   "version": "3.8.13"
  }
 },
 "nbformat": 4,
 "nbformat_minor": 4
}
