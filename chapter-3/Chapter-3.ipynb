{
 "cells": [
  {
   "cell_type": "markdown",
   "id": "89bf9e08",
   "metadata": {},
   "source": [
    "# Visualize the results\n",
    "\n",
    "Visualize the results using `visualize` method. Pass the `test_filename` and `predictions` to the method to view results."
   ]
  },
  {
   "cell_type": "code",
   "execution_count": null,
   "id": "7efa8220-f13e-44fd-b213-0b441facf98a",
   "metadata": {},
   "outputs": [],
   "source": [
    "%cd ~/2023-igarss-tutorial/chapter-2/"
   ]
  },
  {
   "cell_type": "code",
   "execution_count": null,
   "id": "de7b3fe3",
   "metadata": {},
   "outputs": [],
   "source": [
    "!pip install rasterio matplotlib numpy requests boto3 -q"
   ]
  },
  {
   "cell_type": "code",
   "execution_count": 3,
   "id": "9f230035-6928-476b-92a6-a83dcd0f3dc5",
   "metadata": {
    "tags": []
   },
   "outputs": [],
   "source": [
    "import boto3"
   ]
  },
  {
   "cell_type": "code",
   "execution_count": 16,
   "id": "4933c207-f6c0-4c50-ae56-b1a7080a11fe",
   "metadata": {
    "tags": []
   },
   "outputs": [],
   "source": [
    "!mkdir -p data/burn_scars"
   ]
  },
  {
   "cell_type": "code",
   "execution_count": 17,
   "id": "11f2f74b-7b93-42d4-8804-6743aa1481fb",
   "metadata": {
    "tags": []
   },
   "outputs": [],
   "source": [
    "!mkdir -p data/flood"
   ]
  },
  {
   "cell_type": "code",
   "execution_count": 26,
   "id": "057ce4a3-3da4-436a-84f1-0adb8edda445",
   "metadata": {
    "tags": []
   },
   "outputs": [
    {
     "name": "stdout",
     "output_type": "stream",
     "text": [
      "acharya4_flood.tar.gz\n",
      "data/\n",
      "data/burn_scars/\n",
      "data/burn_scars/subsetted_512x512_HLS.S30.T10SEH.2018190.v1.4.mask.tif\n",
      "data/burn_scars/subsetted_512x512_HLS.S30.T10SEH.2018190.v1.4_merged.tif\n",
      "data/burn_scars/subsetted_512x512_HLS.S30.T10SFE.2021166.v1.4.mask.tif\n",
      "data/burn_scars/subsetted_512x512_HLS.S30.T10SFE.2021166.v1.4_merged.tif\n",
      "data/burn_scars/subsetted_512x512_HLS.S30.T10SFF.2020215.v1.4.mask.tif\n",
      "data/burn_scars/subsetted_512x512_HLS.S30.T10SFF.2020215.v1.4_merged.tif\n",
      "data/burn_scars/subsetted_512x512_HLS.S30.T10SFG.2020185.v1.4.mask.tif\n",
      "data/burn_scars/subsetted_512x512_HLS.S30.T10SFG.2020185.v1.4_merged.tif\n",
      "data/burn_scars/subsetted_512x512_HLS.S30.T10SFG.2020215.v1.4.mask.tif\n",
      "data/burn_scars/subsetted_512x512_HLS.S30.T10SFG.2020215.v1.4_merged.tif\n",
      "data/burn_scars/subsetted_512x512_HLS.S30.T10SGD.2018257.v1.4.mask.tif\n",
      "data/burn_scars/subsetted_512x512_HLS.S30.T10SGD.2018257.v1.4_merged.tif\n",
      "data/burn_scars/subsetted_512x512_HLS.S30.T10SGF.2020217.v1.4.mask.tif\n",
      "data/burn_scars/subsetted_512x512_HLS.S30.T10SGF.2020217.v1.4_merged.tif\n",
      "data/burn_scars/subsetted_512x512_HLS.S30.T10SGG.2018187.v1.4.mask.tif\n",
      "data/burn_scars/subsetted_512x512_HLS.S30.T10SGG.2018187.v1.4_merged.tif\n",
      "data/burn_scars/subsetted_512x512_HLS.S30.T10SGG.2020247.v1.4.mask.tif\n",
      "data/burn_scars/subsetted_512x512_HLS.S30.T10SGG.2020247.v1.4_merged.tif\n",
      "data/burn_scars/subsetted_512x512_HLS.S30.T10TFL.2018215.v1.4.mask.tif\n",
      "data/burn_scars/subsetted_512x512_HLS.S30.T10TFL.2018215.v1.4_merged.tif\n",
      "data/flood/\n",
      "data/flood/USA_1010394.mask.tif\n",
      "data/flood/USA_1010394_merged.tif\n",
      "data/flood/USA_1039203.mask.tif\n",
      "data/flood/USA_1039203_merged.tif\n",
      "data/flood/USA_1049586.mask.tif\n",
      "data/flood/USA_1049586_merged.tif\n",
      "data/flood/USA_1068362.mask.tif\n",
      "data/flood/USA_1068362_merged.tif\n",
      "data/flood/USA_1082482.mask.tif\n",
      "data/flood/USA_1082482_merged.tif\n",
      "data/flood/USA_908474.mask.tif\n",
      "data/flood/USA_908474_merged.tif\n",
      "data/flood/USA_933610.mask.tif\n",
      "data/flood/USA_933610_merged.tif\n",
      "data/flood/USA_955053.mask.tif\n",
      "data/flood/USA_955053_merged.tif\n",
      "data/flood/USA_986268.mask.tif\n",
      "data/flood/USA_986268_merged.tif\n",
      "data/flood/USA_994009.mask.tif\n",
      "models/\n",
      "models/gurung1/\n",
      "models/gurung1/gurung1_burn_scars.pth\n",
      "models/gurung1_burn_scars.tar.gz\n",
      "models/mr_burn_scars.tar.gz\n",
      "ramasubramanian1/ramasubramanian1_flood.pth\n"
     ]
    }
   ],
   "source": [
    "import os\n",
    "conn = boto3.resource('s3')\n",
    "bucket_name = '2023-igarss-tutorial-store'\n",
    "my_bucket = conn.Bucket(bucket_name)\n",
    "s3_conn = boto3.client('s3')\n",
    "\n",
    "files = list()\n",
    "masks = list()\n",
    "\n",
    "for my_bucket_object in my_bucket.objects.all():\n",
    "    print(my_bucket_object.key)\n",
    "    filename = str(my_bucket_object.key)\n",
    "    if 'merged' in filename:\n",
    "        files.append(filename)\n",
    "    elif 'mask' in filename:\n",
    "        masks.append(filename)\n",
    "    if not(os.path.exists(filename)):\n",
    "        if '.tif' in filename:\n",
    "            s3_conn.download_file(bucket_name, filename, filename)\n",
    "files.sort()\n",
    "masks.sort()"
   ]
  },
  {
   "cell_type": "code",
   "execution_count": 27,
   "id": "74281f6b-6beb-4745-b958-4d15b4232edb",
   "metadata": {
    "tags": []
   },
   "outputs": [
    {
     "data": {
      "text/plain": [
       "['data/burn_scars/subsetted_512x512_HLS.S30.T10SEH.2018190.v1.4.mask.tif',\n",
       " 'data/burn_scars/subsetted_512x512_HLS.S30.T10SFE.2021166.v1.4.mask.tif',\n",
       " 'data/burn_scars/subsetted_512x512_HLS.S30.T10SFF.2020215.v1.4.mask.tif',\n",
       " 'data/burn_scars/subsetted_512x512_HLS.S30.T10SFG.2020185.v1.4.mask.tif',\n",
       " 'data/burn_scars/subsetted_512x512_HLS.S30.T10SFG.2020215.v1.4.mask.tif',\n",
       " 'data/burn_scars/subsetted_512x512_HLS.S30.T10SGD.2018257.v1.4.mask.tif',\n",
       " 'data/burn_scars/subsetted_512x512_HLS.S30.T10SGF.2020217.v1.4.mask.tif',\n",
       " 'data/burn_scars/subsetted_512x512_HLS.S30.T10SGG.2018187.v1.4.mask.tif',\n",
       " 'data/burn_scars/subsetted_512x512_HLS.S30.T10SGG.2020247.v1.4.mask.tif',\n",
       " 'data/burn_scars/subsetted_512x512_HLS.S30.T10TFL.2018215.v1.4.mask.tif',\n",
       " 'data/flood/USA_1010394.mask.tif',\n",
       " 'data/flood/USA_1039203.mask.tif',\n",
       " 'data/flood/USA_1049586.mask.tif',\n",
       " 'data/flood/USA_1068362.mask.tif',\n",
       " 'data/flood/USA_1082482.mask.tif',\n",
       " 'data/flood/USA_908474.mask.tif',\n",
       " 'data/flood/USA_933610.mask.tif',\n",
       " 'data/flood/USA_955053.mask.tif',\n",
       " 'data/flood/USA_986268.mask.tif',\n",
       " 'data/flood/USA_994009.mask.tif']"
      ]
     },
     "execution_count": 27,
     "metadata": {},
     "output_type": "execute_result"
    }
   ],
   "source": [
    "masks"
   ]
  },
  {
   "cell_type": "code",
   "execution_count": null,
   "id": "82c786b8",
   "metadata": {},
   "outputs": [],
   "source": [
    "\n",
    "import boto3 \n",
    "import requests\n",
    "import numpy as np\n",
    "import rasterio\n",
    "import tempfile\n",
    "from matplotlib import pyplot as plt\n",
    "import numpy as np\n",
    "import rasterio\n",
    "import json"
   ]
  },
  {
   "cell_type": "markdown",
   "id": "55e3d262",
   "metadata": {},
   "source": [
    "## Preparing s3 link for test"
   ]
  },
  {
   "cell_type": "code",
   "execution_count": 28,
   "id": "59b5f7d1",
   "metadata": {},
   "outputs": [],
   "source": [
    "index = 0\n",
    "file_path = f\"s3://2023-igarss-tutorial-store/{files[index]}\"\n",
    "mask_path = f\"s3://2023-igarss-tutorial-store/{masks[index]}\""
   ]
  },
  {
   "cell_type": "code",
   "execution_count": null,
   "id": "ef5f3158",
   "metadata": {},
   "outputs": [],
   "source": []
  },
  {
   "cell_type": "code",
   "execution_count": null,
   "id": "88c33f81",
   "metadata": {},
   "outputs": [],
   "source": [
    "def convert_rgb(img):\n",
    "    \"\"\"\n",
    "    Convert passed list of bands to proper RGB image for visualization purposes\n",
    "    Args:\n",
    "        img: numpy array of GOES data (6 bands)\n",
    "    \"\"\"\n",
    "    red = img[:, :, 1].astype('uint8')\n",
    "    blue = img[:, :, 0].astype('uint8')\n",
    "    pseudo_green = img[:, :, 2].astype('uint8')\n",
    "    height, width = red.shape\n",
    "\n",
    "    img = np.moveaxis(\n",
    "        np.array([red, pseudo_green, blue]), 0, -1\n",
    "    )\n",
    "\n",
    "    return img\n",
    "\n",
    "def visualize(filename, predictions):\n",
    "    \"\"\"\n",
    "    Method to visualize the results alongside the test data\n",
    "    ARGs:\n",
    "       filename: Name of the test file (local path) \n",
    "       predictions: response from the `infer` method for the corresponding file name.\n",
    "    \"\"\"\n",
    "    preds = np.asarray(predictions) * 255\n",
    "    raster = rasterio.open(filename).read()\n",
    "    img = convert_rgb(raster)\n",
    "    plt.imshow(img, preds[0])\n",
    "    raster.close()\n"
   ]
  },
  {
   "cell_type": "markdown",
   "id": "1fe02f1c-dd02-48f8-98fe-4a9c496cdd67",
   "metadata": {},
   "source": [
    "## visualizing the uploaded files"
   ]
  },
  {
   "cell_type": "code",
   "execution_count": null,
   "id": "64927f6c-3e55-4f01-bfb5-2a4deb20b674",
   "metadata": {},
   "outputs": [],
   "source": [
    "# update this for visualization. may be use maps?\n",
    "\n",
    "import boto3\n",
    "import io \n",
    "import numpy.ma as ma\n",
    "\n",
    "session = boto3.session.Session()\n",
    "\n",
    "s3_client = session.client('s3')\n",
    "\n",
    "arr = rasterio.open(file_path).read()\n",
    "arr = np.moveaxis(arr, 0, -1)\n",
    "f, ax = plt.subplots(1, 2)\n",
    "ax[0].imshow(convert_rgb(arr).astype('uint8'))\n",
    "ax[1].imshow(convert_rgb(arr).astype('uint8'))\n",
    "predictions = rasterio\n",
    "ax[1].imshow(\n",
    "    ma.masked_where(\n",
    "        predictions < 50, predictions\n",
    "    ),\n",
    "    alpha=0.95,\n",
    "    cmap='Oranges'\n",
    ")\n",
    "plt.show()"
   ]
  }
 ],
 "metadata": {
  "availableInstances": [
   {
    "_defaultOrder": 0,
    "_isFastLaunch": true,
    "category": "General purpose",
    "gpuNum": 0,
    "hideHardwareSpecs": false,
    "memoryGiB": 4,
    "name": "ml.t3.medium",
    "vcpuNum": 2
   },
   {
    "_defaultOrder": 1,
    "_isFastLaunch": false,
    "category": "General purpose",
    "gpuNum": 0,
    "hideHardwareSpecs": false,
    "memoryGiB": 8,
    "name": "ml.t3.large",
    "vcpuNum": 2
   },
   {
    "_defaultOrder": 2,
    "_isFastLaunch": false,
    "category": "General purpose",
    "gpuNum": 0,
    "hideHardwareSpecs": false,
    "memoryGiB": 16,
    "name": "ml.t3.xlarge",
    "vcpuNum": 4
   },
   {
    "_defaultOrder": 3,
    "_isFastLaunch": false,
    "category": "General purpose",
    "gpuNum": 0,
    "hideHardwareSpecs": false,
    "memoryGiB": 32,
    "name": "ml.t3.2xlarge",
    "vcpuNum": 8
   },
   {
    "_defaultOrder": 4,
    "_isFastLaunch": true,
    "category": "General purpose",
    "gpuNum": 0,
    "hideHardwareSpecs": false,
    "memoryGiB": 8,
    "name": "ml.m5.large",
    "vcpuNum": 2
   },
   {
    "_defaultOrder": 5,
    "_isFastLaunch": false,
    "category": "General purpose",
    "gpuNum": 0,
    "hideHardwareSpecs": false,
    "memoryGiB": 16,
    "name": "ml.m5.xlarge",
    "vcpuNum": 4
   },
   {
    "_defaultOrder": 6,
    "_isFastLaunch": false,
    "category": "General purpose",
    "gpuNum": 0,
    "hideHardwareSpecs": false,
    "memoryGiB": 32,
    "name": "ml.m5.2xlarge",
    "vcpuNum": 8
   },
   {
    "_defaultOrder": 7,
    "_isFastLaunch": false,
    "category": "General purpose",
    "gpuNum": 0,
    "hideHardwareSpecs": false,
    "memoryGiB": 64,
    "name": "ml.m5.4xlarge",
    "vcpuNum": 16
   },
   {
    "_defaultOrder": 8,
    "_isFastLaunch": false,
    "category": "General purpose",
    "gpuNum": 0,
    "hideHardwareSpecs": false,
    "memoryGiB": 128,
    "name": "ml.m5.8xlarge",
    "vcpuNum": 32
   },
   {
    "_defaultOrder": 9,
    "_isFastLaunch": false,
    "category": "General purpose",
    "gpuNum": 0,
    "hideHardwareSpecs": false,
    "memoryGiB": 192,
    "name": "ml.m5.12xlarge",
    "vcpuNum": 48
   },
   {
    "_defaultOrder": 10,
    "_isFastLaunch": false,
    "category": "General purpose",
    "gpuNum": 0,
    "hideHardwareSpecs": false,
    "memoryGiB": 256,
    "name": "ml.m5.16xlarge",
    "vcpuNum": 64
   },
   {
    "_defaultOrder": 11,
    "_isFastLaunch": false,
    "category": "General purpose",
    "gpuNum": 0,
    "hideHardwareSpecs": false,
    "memoryGiB": 384,
    "name": "ml.m5.24xlarge",
    "vcpuNum": 96
   },
   {
    "_defaultOrder": 12,
    "_isFastLaunch": false,
    "category": "General purpose",
    "gpuNum": 0,
    "hideHardwareSpecs": false,
    "memoryGiB": 8,
    "name": "ml.m5d.large",
    "vcpuNum": 2
   },
   {
    "_defaultOrder": 13,
    "_isFastLaunch": false,
    "category": "General purpose",
    "gpuNum": 0,
    "hideHardwareSpecs": false,
    "memoryGiB": 16,
    "name": "ml.m5d.xlarge",
    "vcpuNum": 4
   },
   {
    "_defaultOrder": 14,
    "_isFastLaunch": false,
    "category": "General purpose",
    "gpuNum": 0,
    "hideHardwareSpecs": false,
    "memoryGiB": 32,
    "name": "ml.m5d.2xlarge",
    "vcpuNum": 8
   },
   {
    "_defaultOrder": 15,
    "_isFastLaunch": false,
    "category": "General purpose",
    "gpuNum": 0,
    "hideHardwareSpecs": false,
    "memoryGiB": 64,
    "name": "ml.m5d.4xlarge",
    "vcpuNum": 16
   },
   {
    "_defaultOrder": 16,
    "_isFastLaunch": false,
    "category": "General purpose",
    "gpuNum": 0,
    "hideHardwareSpecs": false,
    "memoryGiB": 128,
    "name": "ml.m5d.8xlarge",
    "vcpuNum": 32
   },
   {
    "_defaultOrder": 17,
    "_isFastLaunch": false,
    "category": "General purpose",
    "gpuNum": 0,
    "hideHardwareSpecs": false,
    "memoryGiB": 192,
    "name": "ml.m5d.12xlarge",
    "vcpuNum": 48
   },
   {
    "_defaultOrder": 18,
    "_isFastLaunch": false,
    "category": "General purpose",
    "gpuNum": 0,
    "hideHardwareSpecs": false,
    "memoryGiB": 256,
    "name": "ml.m5d.16xlarge",
    "vcpuNum": 64
   },
   {
    "_defaultOrder": 19,
    "_isFastLaunch": false,
    "category": "General purpose",
    "gpuNum": 0,
    "hideHardwareSpecs": false,
    "memoryGiB": 384,
    "name": "ml.m5d.24xlarge",
    "vcpuNum": 96
   },
   {
    "_defaultOrder": 20,
    "_isFastLaunch": false,
    "category": "General purpose",
    "gpuNum": 0,
    "hideHardwareSpecs": true,
    "memoryGiB": 0,
    "name": "ml.geospatial.interactive",
    "supportedImageNames": [
     "sagemaker-geospatial-v1-0"
    ],
    "vcpuNum": 0
   },
   {
    "_defaultOrder": 21,
    "_isFastLaunch": true,
    "category": "Compute optimized",
    "gpuNum": 0,
    "hideHardwareSpecs": false,
    "memoryGiB": 4,
    "name": "ml.c5.large",
    "vcpuNum": 2
   },
   {
    "_defaultOrder": 22,
    "_isFastLaunch": false,
    "category": "Compute optimized",
    "gpuNum": 0,
    "hideHardwareSpecs": false,
    "memoryGiB": 8,
    "name": "ml.c5.xlarge",
    "vcpuNum": 4
   },
   {
    "_defaultOrder": 23,
    "_isFastLaunch": false,
    "category": "Compute optimized",
    "gpuNum": 0,
    "hideHardwareSpecs": false,
    "memoryGiB": 16,
    "name": "ml.c5.2xlarge",
    "vcpuNum": 8
   },
   {
    "_defaultOrder": 24,
    "_isFastLaunch": false,
    "category": "Compute optimized",
    "gpuNum": 0,
    "hideHardwareSpecs": false,
    "memoryGiB": 32,
    "name": "ml.c5.4xlarge",
    "vcpuNum": 16
   },
   {
    "_defaultOrder": 25,
    "_isFastLaunch": false,
    "category": "Compute optimized",
    "gpuNum": 0,
    "hideHardwareSpecs": false,
    "memoryGiB": 72,
    "name": "ml.c5.9xlarge",
    "vcpuNum": 36
   },
   {
    "_defaultOrder": 26,
    "_isFastLaunch": false,
    "category": "Compute optimized",
    "gpuNum": 0,
    "hideHardwareSpecs": false,
    "memoryGiB": 96,
    "name": "ml.c5.12xlarge",
    "vcpuNum": 48
   },
   {
    "_defaultOrder": 27,
    "_isFastLaunch": false,
    "category": "Compute optimized",
    "gpuNum": 0,
    "hideHardwareSpecs": false,
    "memoryGiB": 144,
    "name": "ml.c5.18xlarge",
    "vcpuNum": 72
   },
   {
    "_defaultOrder": 28,
    "_isFastLaunch": false,
    "category": "Compute optimized",
    "gpuNum": 0,
    "hideHardwareSpecs": false,
    "memoryGiB": 192,
    "name": "ml.c5.24xlarge",
    "vcpuNum": 96
   },
   {
    "_defaultOrder": 29,
    "_isFastLaunch": true,
    "category": "Accelerated computing",
    "gpuNum": 1,
    "hideHardwareSpecs": false,
    "memoryGiB": 16,
    "name": "ml.g4dn.xlarge",
    "vcpuNum": 4
   },
   {
    "_defaultOrder": 30,
    "_isFastLaunch": false,
    "category": "Accelerated computing",
    "gpuNum": 1,
    "hideHardwareSpecs": false,
    "memoryGiB": 32,
    "name": "ml.g4dn.2xlarge",
    "vcpuNum": 8
   },
   {
    "_defaultOrder": 31,
    "_isFastLaunch": false,
    "category": "Accelerated computing",
    "gpuNum": 1,
    "hideHardwareSpecs": false,
    "memoryGiB": 64,
    "name": "ml.g4dn.4xlarge",
    "vcpuNum": 16
   },
   {
    "_defaultOrder": 32,
    "_isFastLaunch": false,
    "category": "Accelerated computing",
    "gpuNum": 1,
    "hideHardwareSpecs": false,
    "memoryGiB": 128,
    "name": "ml.g4dn.8xlarge",
    "vcpuNum": 32
   },
   {
    "_defaultOrder": 33,
    "_isFastLaunch": false,
    "category": "Accelerated computing",
    "gpuNum": 4,
    "hideHardwareSpecs": false,
    "memoryGiB": 192,
    "name": "ml.g4dn.12xlarge",
    "vcpuNum": 48
   },
   {
    "_defaultOrder": 34,
    "_isFastLaunch": false,
    "category": "Accelerated computing",
    "gpuNum": 1,
    "hideHardwareSpecs": false,
    "memoryGiB": 256,
    "name": "ml.g4dn.16xlarge",
    "vcpuNum": 64
   },
   {
    "_defaultOrder": 35,
    "_isFastLaunch": false,
    "category": "Accelerated computing",
    "gpuNum": 1,
    "hideHardwareSpecs": false,
    "memoryGiB": 61,
    "name": "ml.p3.2xlarge",
    "vcpuNum": 8
   },
   {
    "_defaultOrder": 36,
    "_isFastLaunch": false,
    "category": "Accelerated computing",
    "gpuNum": 4,
    "hideHardwareSpecs": false,
    "memoryGiB": 244,
    "name": "ml.p3.8xlarge",
    "vcpuNum": 32
   },
   {
    "_defaultOrder": 37,
    "_isFastLaunch": false,
    "category": "Accelerated computing",
    "gpuNum": 8,
    "hideHardwareSpecs": false,
    "memoryGiB": 488,
    "name": "ml.p3.16xlarge",
    "vcpuNum": 64
   },
   {
    "_defaultOrder": 38,
    "_isFastLaunch": false,
    "category": "Accelerated computing",
    "gpuNum": 8,
    "hideHardwareSpecs": false,
    "memoryGiB": 768,
    "name": "ml.p3dn.24xlarge",
    "vcpuNum": 96
   },
   {
    "_defaultOrder": 39,
    "_isFastLaunch": false,
    "category": "Memory Optimized",
    "gpuNum": 0,
    "hideHardwareSpecs": false,
    "memoryGiB": 16,
    "name": "ml.r5.large",
    "vcpuNum": 2
   },
   {
    "_defaultOrder": 40,
    "_isFastLaunch": false,
    "category": "Memory Optimized",
    "gpuNum": 0,
    "hideHardwareSpecs": false,
    "memoryGiB": 32,
    "name": "ml.r5.xlarge",
    "vcpuNum": 4
   },
   {
    "_defaultOrder": 41,
    "_isFastLaunch": false,
    "category": "Memory Optimized",
    "gpuNum": 0,
    "hideHardwareSpecs": false,
    "memoryGiB": 64,
    "name": "ml.r5.2xlarge",
    "vcpuNum": 8
   },
   {
    "_defaultOrder": 42,
    "_isFastLaunch": false,
    "category": "Memory Optimized",
    "gpuNum": 0,
    "hideHardwareSpecs": false,
    "memoryGiB": 128,
    "name": "ml.r5.4xlarge",
    "vcpuNum": 16
   },
   {
    "_defaultOrder": 43,
    "_isFastLaunch": false,
    "category": "Memory Optimized",
    "gpuNum": 0,
    "hideHardwareSpecs": false,
    "memoryGiB": 256,
    "name": "ml.r5.8xlarge",
    "vcpuNum": 32
   },
   {
    "_defaultOrder": 44,
    "_isFastLaunch": false,
    "category": "Memory Optimized",
    "gpuNum": 0,
    "hideHardwareSpecs": false,
    "memoryGiB": 384,
    "name": "ml.r5.12xlarge",
    "vcpuNum": 48
   },
   {
    "_defaultOrder": 45,
    "_isFastLaunch": false,
    "category": "Memory Optimized",
    "gpuNum": 0,
    "hideHardwareSpecs": false,
    "memoryGiB": 512,
    "name": "ml.r5.16xlarge",
    "vcpuNum": 64
   },
   {
    "_defaultOrder": 46,
    "_isFastLaunch": false,
    "category": "Memory Optimized",
    "gpuNum": 0,
    "hideHardwareSpecs": false,
    "memoryGiB": 768,
    "name": "ml.r5.24xlarge",
    "vcpuNum": 96
   },
   {
    "_defaultOrder": 47,
    "_isFastLaunch": false,
    "category": "Accelerated computing",
    "gpuNum": 1,
    "hideHardwareSpecs": false,
    "memoryGiB": 16,
    "name": "ml.g5.xlarge",
    "vcpuNum": 4
   },
   {
    "_defaultOrder": 48,
    "_isFastLaunch": false,
    "category": "Accelerated computing",
    "gpuNum": 1,
    "hideHardwareSpecs": false,
    "memoryGiB": 32,
    "name": "ml.g5.2xlarge",
    "vcpuNum": 8
   },
   {
    "_defaultOrder": 49,
    "_isFastLaunch": false,
    "category": "Accelerated computing",
    "gpuNum": 1,
    "hideHardwareSpecs": false,
    "memoryGiB": 64,
    "name": "ml.g5.4xlarge",
    "vcpuNum": 16
   },
   {
    "_defaultOrder": 50,
    "_isFastLaunch": false,
    "category": "Accelerated computing",
    "gpuNum": 1,
    "hideHardwareSpecs": false,
    "memoryGiB": 128,
    "name": "ml.g5.8xlarge",
    "vcpuNum": 32
   },
   {
    "_defaultOrder": 51,
    "_isFastLaunch": false,
    "category": "Accelerated computing",
    "gpuNum": 1,
    "hideHardwareSpecs": false,
    "memoryGiB": 256,
    "name": "ml.g5.16xlarge",
    "vcpuNum": 64
   },
   {
    "_defaultOrder": 52,
    "_isFastLaunch": false,
    "category": "Accelerated computing",
    "gpuNum": 4,
    "hideHardwareSpecs": false,
    "memoryGiB": 192,
    "name": "ml.g5.12xlarge",
    "vcpuNum": 48
   },
   {
    "_defaultOrder": 53,
    "_isFastLaunch": false,
    "category": "Accelerated computing",
    "gpuNum": 4,
    "hideHardwareSpecs": false,
    "memoryGiB": 384,
    "name": "ml.g5.24xlarge",
    "vcpuNum": 96
   },
   {
    "_defaultOrder": 54,
    "_isFastLaunch": false,
    "category": "Accelerated computing",
    "gpuNum": 8,
    "hideHardwareSpecs": false,
    "memoryGiB": 768,
    "name": "ml.g5.48xlarge",
    "vcpuNum": 192
   },
   {
    "_defaultOrder": 55,
    "_isFastLaunch": false,
    "category": "Accelerated computing",
    "gpuNum": 8,
    "hideHardwareSpecs": false,
    "memoryGiB": 1152,
    "name": "ml.p4d.24xlarge",
    "vcpuNum": 96
   },
   {
    "_defaultOrder": 56,
    "_isFastLaunch": false,
    "category": "Accelerated computing",
    "gpuNum": 8,
    "hideHardwareSpecs": false,
    "memoryGiB": 1152,
    "name": "ml.p4de.24xlarge",
    "vcpuNum": 96
   }
  ],
  "instance_type": "ml.t3.medium",
  "kernelspec": {
   "display_name": "Python 3 (Data Science)",
   "language": "python",
   "name": "python3__SAGEMAKER_INTERNAL__arn:aws:sagemaker:us-west-2:236514542706:image/datascience-1.0"
  },
  "language_info": {
   "codemirror_mode": {
    "name": "ipython",
    "version": 3
   },
   "file_extension": ".py",
   "mimetype": "text/x-python",
   "name": "python",
   "nbconvert_exporter": "python",
   "pygments_lexer": "ipython3",
   "version": "3.7.10"
  },
  "vscode": {
   "interpreter": {
    "hash": "8987afb44532b2110e1a5e1b229dd281f8440b44477d285826a54acdd52d8797"
   }
  }
 },
 "nbformat": 4,
 "nbformat_minor": 5
}
